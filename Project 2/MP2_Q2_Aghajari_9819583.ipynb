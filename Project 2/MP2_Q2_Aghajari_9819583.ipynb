{
  "nbformat": 4,
  "nbformat_minor": 0,
  "metadata": {
    "colab": {
      "provenance": [],
      "authorship_tag": "ABX9TyMM5mfqNF7G87PHdygZJQQH",
      "include_colab_link": true
    },
    "kernelspec": {
      "name": "python3",
      "display_name": "Python 3"
    },
    "language_info": {
      "name": "python"
    }
  },
  "cells": [
    {
      "cell_type": "markdown",
      "metadata": {
        "id": "view-in-github",
        "colab_type": "text"
      },
      "source": [
        "<a href=\"https://colab.research.google.com/github/Reza-aghajari/ML2023/blob/main/MP2_Q2_Aghajari_9819583.ipynb\" target=\"_parent\"><img src=\"https://colab.research.google.com/assets/colab-badge.svg\" alt=\"Open In Colab\"/></a>"
      ]
    },
    {
      "cell_type": "code",
      "execution_count": 29,
      "metadata": {
        "id": "x5MindQhoQxd"
      },
      "outputs": [],
      "source": [
        "import numpy as np\n",
        "import itertools"
      ]
    },
    {
      "cell_type": "code",
      "source": [
        "class McCulloch_Pitts_neuron():\n",
        "\n",
        "  def __init__(self , weights , threshold):\n",
        "    self.weights = weights    #define weights\n",
        "    self.threshold = threshold    #define threshold\n",
        "\n",
        "  def model(self , x):\n",
        "    #define model with threshold\n",
        "    if self.weights @ x >= self.threshold:\n",
        "        return 1\n",
        "    else:\n",
        "        return 0"
      ],
      "metadata": {
        "id": "M0ufMPi054Ou"
      },
      "execution_count": 30,
      "outputs": []
    },
    {
      "cell_type": "code",
      "source": [
        "def Or(input):\n",
        "\n",
        "  neur5 = McCulloch_Pitts_neuron([1, 1], 0.5)\n",
        "\n",
        "  z5 = neur5.model(np.array([input[0], input[1]]))\n",
        "\n",
        "  # 3 bit output\n",
        "  # return str(z1) + str(z2)\n",
        "  return list([z5])\n"
      ],
      "metadata": {
        "id": "2DerYSGU6AVt"
      },
      "execution_count": 31,
      "outputs": []
    },
    {
      "cell_type": "code",
      "source": [
        "def And(input):\n",
        "\n",
        "  neur5 = McCulloch_Pitts_neuron([1, 1], 1.5)\n",
        "\n",
        "  z5 = neur5.model(np.array([input[0], input[1]]))\n",
        "\n",
        "  # 3 bit output\n",
        "  # return str(z1) + str(z2)\n",
        "  return list([z5])"
      ],
      "metadata": {
        "id": "xa7m2DO56D2A"
      },
      "execution_count": 32,
      "outputs": []
    },
    {
      "cell_type": "code",
      "source": [
        "def y0(input):\n",
        "\n",
        "  neur5 = McCulloch_Pitts_neuron([1,1],1.5)\n",
        "\n",
        "  z5 = neur5.model(np.array([input[1],input[3]]))\n",
        "\n",
        "  # 3 bit output\n",
        "  # return str(z1) + str(z2)\n",
        "  return list([z5])"
      ],
      "metadata": {
        "id": "erqK2RVHsxd2"
      },
      "execution_count": 33,
      "outputs": []
    },
    {
      "cell_type": "code",
      "source": [
        "import itertools\n",
        "# inputs\n",
        "\n",
        "input = [0,1]\n",
        "\n",
        "X = list(itertools.product(input, input, input, input))\n",
        "\n",
        "for i in X:\n",
        "    res = y0(i)\n",
        "    print(\"y0 with input as\", str(i[0]) + str(\" \")+str(i[1])+ str(\" \")+str(i[2])+ str(\" \")+str(i[3]), \"goes to output \", str(res[0]))"
      ],
      "metadata": {
        "colab": {
          "base_uri": "https://localhost:8080/"
        },
        "id": "erQimZjRswn4",
        "outputId": "dad2476b-0511-4fb3-d97a-0381cf60ea6e"
      },
      "execution_count": 34,
      "outputs": [
        {
          "output_type": "stream",
          "name": "stdout",
          "text": [
            "y0 with input as 0 0 0 0 goes to output  0\n",
            "y0 with input as 0 0 0 1 goes to output  0\n",
            "y0 with input as 0 0 1 0 goes to output  0\n",
            "y0 with input as 0 0 1 1 goes to output  0\n",
            "y0 with input as 0 1 0 0 goes to output  0\n",
            "y0 with input as 0 1 0 1 goes to output  1\n",
            "y0 with input as 0 1 1 0 goes to output  0\n",
            "y0 with input as 0 1 1 1 goes to output  1\n",
            "y0 with input as 1 0 0 0 goes to output  0\n",
            "y0 with input as 1 0 0 1 goes to output  0\n",
            "y0 with input as 1 0 1 0 goes to output  0\n",
            "y0 with input as 1 0 1 1 goes to output  0\n",
            "y0 with input as 1 1 0 0 goes to output  0\n",
            "y0 with input as 1 1 0 1 goes to output  1\n",
            "y0 with input as 1 1 1 0 goes to output  0\n",
            "y0 with input as 1 1 1 1 goes to output  1\n"
          ]
        }
      ]
    },
    {
      "cell_type": "code",
      "source": [
        "def y1(input):\n",
        "\n",
        "  neur1 = McCulloch_Pitts_neuron([1,-1, 0,1], 1.5)\n",
        "  neur2 = McCulloch_Pitts_neuron([1,0, -1,1], 1.5)\n",
        "  neur3 = McCulloch_Pitts_neuron([0,1,1,-1], 1.5)\n",
        "  neur4 = McCulloch_Pitts_neuron([-1,1,1,0], 1.5)\n",
        "  neur5 = McCulloch_Pitts_neuron([1,1,1,1], 0.5)\n",
        "\n",
        "  z1 = neur1.model(np.array([input[0], input[1],input[2],input[3]]))\n",
        "  z2 = neur2.model(np.array([input[0], input[1],input[2],input[3]]))\n",
        "  z3 = neur3.model(np.array([input[0], input[1],input[2],input[3]]))\n",
        "  z4 = neur4.model(np.array([input[0], input[1],input[2],input[3]]))\n",
        "  z5 = neur5.model(np.array([z1,z2,z3,z4]))\n",
        "  # 3 bit output\n",
        "  # return str(z1) + str(z2)\n",
        "  return list([z5])"
      ],
      "metadata": {
        "id": "oTAvp2a0s18g"
      },
      "execution_count": 35,
      "outputs": []
    },
    {
      "cell_type": "code",
      "source": [
        "import itertools\n",
        "# inputs\n",
        "\n",
        "input = [0,1]\n",
        "\n",
        "X = list(itertools.product(input, input, input, input))\n",
        "\n",
        "for i in X:\n",
        "    res = y1(i)\n",
        "    print(\"y1 with input as\", str(i[0]) + str(\" \")+str(i[1])+ str(\" \")+str(i[2])+ str(\" \")+str(i[3]), \"goes to output \", str(res[0]))"
      ],
      "metadata": {
        "colab": {
          "base_uri": "https://localhost:8080/"
        },
        "id": "B0KlXjqss154",
        "outputId": "8988c2e7-28aa-4821-b7a9-0bfb523ea775"
      },
      "execution_count": 36,
      "outputs": [
        {
          "output_type": "stream",
          "name": "stdout",
          "text": [
            "y1 with input as 0 0 0 0 goes to output  0\n",
            "y1 with input as 0 0 0 1 goes to output  0\n",
            "y1 with input as 0 0 1 0 goes to output  0\n",
            "y1 with input as 0 0 1 1 goes to output  0\n",
            "y1 with input as 0 1 0 0 goes to output  0\n",
            "y1 with input as 0 1 0 1 goes to output  0\n",
            "y1 with input as 0 1 1 0 goes to output  1\n",
            "y1 with input as 0 1 1 1 goes to output  1\n",
            "y1 with input as 1 0 0 0 goes to output  0\n",
            "y1 with input as 1 0 0 1 goes to output  1\n",
            "y1 with input as 1 0 1 0 goes to output  0\n",
            "y1 with input as 1 0 1 1 goes to output  1\n",
            "y1 with input as 1 1 0 0 goes to output  0\n",
            "y1 with input as 1 1 0 1 goes to output  1\n",
            "y1 with input as 1 1 1 0 goes to output  1\n",
            "y1 with input as 1 1 1 1 goes to output  0\n"
          ]
        }
      ]
    },
    {
      "cell_type": "code",
      "source": [
        "def y2(input):\n",
        "\n",
        "  neur1 = McCulloch_Pitts_neuron([1,0,1,-1], 1.5)\n",
        "  neur2 = McCulloch_Pitts_neuron([1,-1,1,0], 1.5)\n",
        "  neur3 = McCulloch_Pitts_neuron([1,1], 0.5)\n",
        "\n",
        "  z1 = neur1.model(np.array([input[0], input[1],input[2],input[3]]))\n",
        "  z2 = neur2.model(np.array([input[0], input[1],input[2],input[3]]))\n",
        "  z3 = neur3.model(np.array([z1,z2]))\n",
        "\n",
        "  # 3 bit output\n",
        "  # return str(z1) + str(z2)\n",
        "  return list([z3])"
      ],
      "metadata": {
        "id": "_tycziUbs13S"
      },
      "execution_count": 37,
      "outputs": []
    },
    {
      "cell_type": "code",
      "source": [
        "import itertools\n",
        "# inputs\n",
        "\n",
        "input = [0,1]\n",
        "\n",
        "X = list(itertools.product(input, input, input, input))\n",
        "\n",
        "for i in X:\n",
        "    res = y2(i)\n",
        "    print(\"y2 with input as\", str(i[0]) + str(\" \")+str(i[1])+ str(\" \")+str(i[2])+ str(\" \")+str(i[3]), \"goes to output \", str(res[0]))"
      ],
      "metadata": {
        "colab": {
          "base_uri": "https://localhost:8080/"
        },
        "id": "dxyiBUHcs10t",
        "outputId": "91dd1c7b-36ca-4d63-b087-951032ecf857"
      },
      "execution_count": 38,
      "outputs": [
        {
          "output_type": "stream",
          "name": "stdout",
          "text": [
            "y2 with input as 0 0 0 0 goes to output  0\n",
            "y2 with input as 0 0 0 1 goes to output  0\n",
            "y2 with input as 0 0 1 0 goes to output  0\n",
            "y2 with input as 0 0 1 1 goes to output  0\n",
            "y2 with input as 0 1 0 0 goes to output  0\n",
            "y2 with input as 0 1 0 1 goes to output  0\n",
            "y2 with input as 0 1 1 0 goes to output  0\n",
            "y2 with input as 0 1 1 1 goes to output  0\n",
            "y2 with input as 1 0 0 0 goes to output  0\n",
            "y2 with input as 1 0 0 1 goes to output  0\n",
            "y2 with input as 1 0 1 0 goes to output  1\n",
            "y2 with input as 1 0 1 1 goes to output  1\n",
            "y2 with input as 1 1 0 0 goes to output  0\n",
            "y2 with input as 1 1 0 1 goes to output  0\n",
            "y2 with input as 1 1 1 0 goes to output  1\n",
            "y2 with input as 1 1 1 1 goes to output  0\n"
          ]
        }
      ]
    },
    {
      "cell_type": "code",
      "source": [
        "def y3(input):\n",
        "\n",
        "  neur1 = McCulloch_Pitts_neuron([1,1,1,1], 3.5)\n",
        "\n",
        "  z1 = neur1.model(np.array([input[0], input[1],input[2],input[3]]))\n",
        "\n",
        "\n",
        "  # 3 bit output\n",
        "  # return str(z1) + str(z2)\n",
        "  return list([z1])"
      ],
      "metadata": {
        "id": "ntygyjQ4s1yQ"
      },
      "execution_count": 39,
      "outputs": []
    },
    {
      "cell_type": "code",
      "source": [
        "import itertools\n",
        "# inputs\n",
        "\n",
        "input = [0,1]\n",
        "\n",
        "X = list(itertools.product(input, input, input, input))\n",
        "\n",
        "for i in X:\n",
        "    res = y3(i)\n",
        "    print(\"y3 with input as\", str(i[0]) + str(\" \")+str(i[1])+ str(\" \")+str(i[2])+ str(\" \")+str(i[3]), \"goes to output \", str(res[0]))"
      ],
      "metadata": {
        "colab": {
          "base_uri": "https://localhost:8080/"
        },
        "id": "_yuccr5Fs1vc",
        "outputId": "136bc091-4961-48ae-99c4-c2672608e602"
      },
      "execution_count": 40,
      "outputs": [
        {
          "output_type": "stream",
          "name": "stdout",
          "text": [
            "y3 with input as 0 0 0 0 goes to output  0\n",
            "y3 with input as 0 0 0 1 goes to output  0\n",
            "y3 with input as 0 0 1 0 goes to output  0\n",
            "y3 with input as 0 0 1 1 goes to output  0\n",
            "y3 with input as 0 1 0 0 goes to output  0\n",
            "y3 with input as 0 1 0 1 goes to output  0\n",
            "y3 with input as 0 1 1 0 goes to output  0\n",
            "y3 with input as 0 1 1 1 goes to output  0\n",
            "y3 with input as 1 0 0 0 goes to output  0\n",
            "y3 with input as 1 0 0 1 goes to output  0\n",
            "y3 with input as 1 0 1 0 goes to output  0\n",
            "y3 with input as 1 0 1 1 goes to output  0\n",
            "y3 with input as 1 1 0 0 goes to output  0\n",
            "y3 with input as 1 1 0 1 goes to output  0\n",
            "y3 with input as 1 1 1 0 goes to output  0\n",
            "y3 with input as 1 1 1 1 goes to output  1\n"
          ]
        }
      ]
    }
  ]
}
